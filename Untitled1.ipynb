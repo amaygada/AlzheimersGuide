{
 "cells": [
  {
   "cell_type": "code",
   "execution_count": 2,
   "metadata": {},
   "outputs": [],
   "source": [
    "import cv2\n",
    "import numpy as np\n",
    "#import matplotlib.pyplot as plt\n",
    "import os\n",
    "import scipy\n",
    "from scipy import stats\n",
    "import requests\n",
    "import time\n",
    "import matplotlib.pyplot as plt"
   ]
  },
  {
   "cell_type": "code",
   "execution_count": 3,
   "metadata": {},
   "outputs": [],
   "source": [
    "def predict(image):\n",
    "    test = image.copy() #making copy of the image\n",
    "    face = detect_face_HAAR(test , 1.05) #detecting the face from the image\n",
    "    if type(face)==dict: #checking if face detectd\n",
    "        recog = True \n",
    "        (x,y,w,h) = face['dim'] #extracting dimensions\n",
    "        im = face['im'] #extracting face\n",
    "        result = model.predict(im) #storing result of prediction in model\n",
    "        cv2.rectangle(test, (x,y), (x+w, y+h), (0,255,0), 2) #making rectangle around detected face\n",
    "        print(result) \n",
    "        if result[1]<80: #setting a threshold for the obtained eucladian distance\n",
    "            predictionList.append(result[0]) #appending the label to the prectionList\n",
    "        return(test)\n",
    "    else: #if face not detected\n",
    "        print('No face found!') \n",
    "        return (test)"
   ]
  },
  {
   "cell_type": "code",
   "execution_count": 4,
   "metadata": {},
   "outputs": [],
   "source": [
    "model = cv2.face.LBPHFaceRecognizer_create() #creating the model for LBPH\n",
    "model.read('lbph_model_trained.xml')"
   ]
  },
  {
   "cell_type": "code",
   "execution_count": 9,
   "metadata": {},
   "outputs": [],
   "source": [
    "img = 'train/amay/4.jpg'\n",
    "im = cv2.imread(img)\n",
    "im = cv2.cvtColor(im, cv2.COLOR_BGR2GRAY)"
   ]
  },
  {
   "cell_type": "code",
   "execution_count": 10,
   "metadata": {},
   "outputs": [],
   "source": [
    "result = model.predict(im)"
   ]
  },
  {
   "cell_type": "code",
   "execution_count": 11,
   "metadata": {},
   "outputs": [
    {
     "data": {
      "text/plain": [
       "(5, 0.0)"
      ]
     },
     "execution_count": 11,
     "metadata": {},
     "output_type": "execute_result"
    }
   ],
   "source": [
    "result"
   ]
  },
  {
   "cell_type": "code",
   "execution_count": 16,
   "metadata": {},
   "outputs": [],
   "source": [
    "h = model.getHistograms()"
   ]
  },
  {
   "cell_type": "code",
   "execution_count": 17,
   "metadata": {},
   "outputs": [
    {
     "data": {
      "text/plain": [
       "50"
      ]
     },
     "execution_count": 17,
     "metadata": {},
     "output_type": "execute_result"
    }
   ],
   "source": [
    "len(h)"
   ]
  },
  {
   "cell_type": "code",
   "execution_count": 61,
   "metadata": {},
   "outputs": [
    {
     "data": {
      "image/png": "[encoded data removed]",
      "text/plain": [
       "<Figure size 432x288 with 1 Axes>"
      ]
     },
     "metadata": {
      "needs_background": "light"
     },
     "output_type": "display_data"
    },
    {
     "name": "stdout",
     "output_type": "stream",
     "text": [
      "[0.         0.01640625 0.0328125  0.04921875 0.065625   0.08203125\n",
      " 0.0984375  0.11484375 0.13125    0.14765625 0.1640625 ]\n",
      "[15387   603   192    88    42    29    17    18     2     6]\n"
     ]
    }
   ],
   "source": [
    "counts, bins = np.histogram(h[40][0])\n",
    "plt.hist(bins[:-1], bins, weights=counts)\n",
    "plt.show()\n",
    "print(bins)\n",
    "print(counts)"
   ]
  },
  {
   "cell_type": "code",
   "execution_count": 49,
   "metadata": {},
   "outputs": [
    {
     "data": {
      "text/plain": [
       "16384"
      ]
     },
     "execution_count": 49,
     "metadata": {},
     "output_type": "execute_result"
    }
   ],
   "source": [
    "len(h[30][0])"
   ]
  },
  {
   "cell_type": "code",
   "execution_count": 50,
   "metadata": {},
   "outputs": [
    {
     "data": {
      "text/plain": [
       "array([[0.0625    , 0.00694444, 0.00694444, ..., 0.        , 0.00694444,\n",
       "        0.07638889]], dtype=float32)"
      ]
     },
     "execution_count": 50,
     "metadata": {},
     "output_type": "execute_result"
    }
   ],
   "source": [
    "h[0]"
   ]
  },
  {
   "cell_type": "code",
   "execution_count": 56,
   "metadata": {},
   "outputs": [
    {
     "data": {
      "text/plain": [
       "8"
      ]
     },
     "execution_count": 56,
     "metadata": {},
     "output_type": "execute_result"
    }
   ],
   "source": [
    "model.getGridY()"
   ]
  },
  {
   "cell_type": "code",
   "execution_count": null,
   "metadata": {},
   "outputs": [],
   "source": []
  }
 ],
 "metadata": {
  "kernelspec": {
   "display_name": "projectcv",
   "language": "python",
   "name": "projectcv"
  },
  "language_info": {
   "codemirror_mode": {
    "name": "ipython",
    "version": 3
   },
   "file_extension": ".py",
   "mimetype": "text/x-python",
   "name": "python",
   "nbconvert_exporter": "python",
   "pygments_lexer": "ipython3",
   "version": "3.8.8"
  }
 },
 "nbformat": 4,
 "nbformat_minor": 4
}
